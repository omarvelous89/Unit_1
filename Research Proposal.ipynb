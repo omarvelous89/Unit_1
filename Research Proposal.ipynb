{
 "cells": [
  {
   "cell_type": "markdown",
   "metadata": {},
   "source": [
    "# Research Proposal\n",
    "\n",
    "## Questions\n",
    "* Has Herd Immunity been compromised in California?\n",
    "* Are Private schools more culpable for higher rates of exemption, i.e. lower rates of vaccination.\n",
    "* Does the economic class of the child affect exemption rates?\n",
    "\n",
    "## Hypothesis\n",
    "* We will see increased rates of non-vaccination that are below threshold immunity.\n",
    "* Private school will show a higher rate of non vaccination than Public schools.\n",
    "* Economic class is a factor and families with higher incomes will also show a higher rate of non-vaccination.\n",
    "\n",
    "## The method of testing the solution\n",
    "\n",
    "* To test hypothesis one we compare the vaccination rates reported by the schools to the recommended rates we should see (according to the CDC and calculated through the threshold value formula.) So we can directly compare an observed value to a known value\n",
    "\n",
    "* To test the second hypothesis we separate the data based on the public private label and then examine the data to see if the same vaccination rates we observed in the first part are present in the sliced data. We also control for the oversampling of the Public schools in California. Additionally we check to see if there have been any trends in the vaccination rates over time between the two groups.\n",
    "\n",
    "* Using data obtained from the U.S. Census Bureau, we compare the the vaccination rate across different counties and group them based on median houshold income. We then compare those vaccination rates to the ideal ones we expect to see based on the first part of the experiment.\n"
   ]
  }
 ],
 "metadata": {
  "kernelspec": {
   "display_name": "Python 3",
   "language": "python",
   "name": "python3"
  },
  "language_info": {
   "codemirror_mode": {
    "name": "ipython",
    "version": 3
   },
   "file_extension": ".py",
   "mimetype": "text/x-python",
   "name": "python",
   "nbconvert_exporter": "python",
   "pygments_lexer": "ipython3",
   "version": "3.6.7"
  }
 },
 "nbformat": 4,
 "nbformat_minor": 2
}
